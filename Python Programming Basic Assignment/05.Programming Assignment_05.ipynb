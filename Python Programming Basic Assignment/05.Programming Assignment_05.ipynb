{
 "cells": [
  {
   "cell_type": "markdown",
   "id": "9e1733f2",
   "metadata": {},
   "source": [
    "# Assignment 5 Solutions"
   ]
  },
  {
   "cell_type": "markdown",
   "id": "901748b2",
   "metadata": {},
   "source": [
    "#### 1. Write a Python Program to find LCM ?"
   ]
  },
  {
   "cell_type": "code",
   "execution_count": 11,
   "id": "91140999",
   "metadata": {},
   "outputs": [
    {
     "name": "stdout",
     "output_type": "stream",
     "text": [
      "LCM of 96 and 128 is 384\n"
     ]
    }
   ],
   "source": [
    "def hcf(a,b):\n",
    "    if a>b:\n",
    "        dividend=a\n",
    "    else:\n",
    "        dividend=b\n",
    "    \n",
    "    while b:\n",
    "        a,b=b,a%b\n",
    "    return a\n",
    "a=int(input())\n",
    "b=int(input())\n",
    "print(f\"LCM of {a} and {b} is {int((a*b)/hcf(a,b))}\")"
   ]
  },
  {
   "cell_type": "markdown",
   "id": "5998fa74",
   "metadata": {},
   "source": [
    "#### 2. Write a Python Program to find HCF ?"
   ]
  },
  {
   "cell_type": "code",
   "execution_count": 12,
   "id": "352d08d9",
   "metadata": {},
   "outputs": [
    {
     "name": "stdout",
     "output_type": "stream",
     "text": [
      "HCF of 96 and 128 is 32\n"
     ]
    }
   ],
   "source": [
    "def hcf(a,b):\n",
    "    if a>b:\n",
    "        dividend=a\n",
    "    else:\n",
    "        dividend=b\n",
    "    \n",
    "    while b:\n",
    "        a,b=b,a%b\n",
    "    return a\n",
    "a=int(input())\n",
    "b=int(input())\n",
    "\n",
    "print(f\"HCF of {a} and {b} is {hcf(a,b)}\")"
   ]
  },
  {
   "cell_type": "markdown",
   "id": "f29f8214",
   "metadata": {},
   "source": [
    "#### 3. Write a Python Program to Convert Decimal to Binary, Octal and Hexadecimal ?"
   ]
  },
  {
   "cell_type": "code",
   "execution_count": 23,
   "id": "53212645",
   "metadata": {},
   "outputs": [
    {
     "name": "stdout",
     "output_type": "stream",
     "text": [
      "Enter a Number: 55252555\n",
      "Binary Number -> 0b11010010110001011001001011\n",
      "Octal Number -> 0o322613113\n",
      "Hexadecimal Number -> 0x34b164b\n"
     ]
    }
   ],
   "source": [
    "def DecimalToOther():\n",
    "    num = int(input('Enter a Number: '))\n",
    "    print(f'Binary Number -> {bin(num)}')\n",
    "    print(f'Octal Number -> {oct(num)}')    \n",
    "    print(f'Hexadecimal Number -> {hex(num)}')    \n",
    "\n",
    "DecimalToOther()"
   ]
  },
  {
   "cell_type": "markdown",
   "id": "1a4ed424",
   "metadata": {},
   "source": [
    "#### 4. Write a Python Program to Find the ASCII value of  a Character ?"
   ]
  },
  {
   "cell_type": "code",
   "execution_count": 6,
   "id": "8173265f",
   "metadata": {},
   "outputs": [
    {
     "name": "stdout",
     "output_type": "stream",
     "text": [
      "Ascii value of character s is  115\n"
     ]
    }
   ],
   "source": [
    "s=input()\n",
    "if len(s)>1:\n",
    "    print(\"Please Enter the character of length 1\")\n",
    "else:\n",
    "    print(f\"Ascii value of character {s} is  {ord(s)}\")"
   ]
  },
  {
   "cell_type": "markdown",
   "id": "e9f467f1",
   "metadata": {},
   "source": [
    "\n",
    "#### 5. Write a Python Program to Make a Simple Calculator with 4 Basic Mathematical operations ?"
   ]
  },
  {
   "cell_type": "code",
   "execution_count": 25,
   "id": "846d7a21",
   "metadata": {},
   "outputs": [
    {
     "name": "stdout",
     "output_type": "stream",
     "text": [
      "Select a Arithmetic Operation:         \n",
      "1.Addition(+)        \n",
      "2.Division(-)        \n",
      "2.Multiplication(*)        \n",
      "4.Division(/)        \n",
      "3.Stop(0)\n",
      "\n",
      "Enter a arithmetic operation -> +\n",
      "\n",
      "Enter 1st Number: 10\n",
      "Enter 2nd Number: 20\n",
      "10+20=30\n",
      "\n",
      "Enter a arithmetic operation -> -\n",
      "\n",
      "Enter 1st Number: 10\n",
      "Enter 2nd Number: 20\n",
      "10-20=-10\n",
      "\n",
      "Enter a arithmetic operation -> *\n",
      "\n",
      "Enter 1st Number: 10\n",
      "Enter 2nd Number: 20\n",
      "10*20=200\n",
      "\n",
      "Enter a arithmetic operation -> /\n",
      "\n",
      "Enter 1st Number: 10\n",
      "Enter 2nd Number: 20\n",
      "10/20=0.5\n",
      "\n",
      "Enter a arithmetic operation -> 0\n",
      "Program Stopped successfully\n"
     ]
    }
   ],
   "source": [
    "import operator\n",
    "\n",
    "ops = { \"+\": operator.add, \"-\": operator.sub, \"*\":operator.mul, \"/\":operator.truediv } \n",
    "\n",
    "print('Select a Arithmetic Operation: \\\n",
    "        \\n1.Addition(+)\\\n",
    "        \\n2.Division(-)\\\n",
    "        \\n2.Multiplication(*)\\\n",
    "        \\n4.Division(/)\\\n",
    "        \\n3.Stop(0)\\n')\n",
    "   \n",
    "\n",
    "while True:\n",
    "    operator = input('Enter a arithmetic operation -> ')\n",
    "    if operator == '0':\n",
    "        print(\"Program Stopped successfully\")\n",
    "        break\n",
    "    elif operator not in ['+','-','*','/']:\n",
    "        print(\"Please enter a valid operator\")\n",
    "    else:\n",
    "        num_1 = int(input('\\nEnter 1st Number: '))\n",
    "        num_2 = int(input('Enter 2nd Number: '))\n",
    "        print(f'{num_1}{operator}{num_2}={ops[operator](num_1,num_2)}\\n')"
   ]
  }
 ],
 "metadata": {
  "kernelspec": {
   "display_name": "Python 3.7.9 64-bit",
   "language": "python",
   "name": "python3"
  },
  "language_info": {
   "codemirror_mode": {
    "name": "ipython",
    "version": 3
   },
   "file_extension": ".py",
   "mimetype": "text/x-python",
   "name": "python",
   "nbconvert_exporter": "python",
   "pygments_lexer": "ipython3",
   "version": "3.7.9"
  },
  "vscode": {
   "interpreter": {
    "hash": "5109d816b82be14675a6b11f8e0f0d2e80f029176ed3710d54e125caa8520dfd"
   }
  }
 },
 "nbformat": 4,
 "nbformat_minor": 5
}
