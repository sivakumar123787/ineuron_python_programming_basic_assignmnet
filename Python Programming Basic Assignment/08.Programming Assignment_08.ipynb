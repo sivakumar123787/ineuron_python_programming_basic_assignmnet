{
 "cells": [
  {
   "cell_type": "markdown",
   "id": "d3a4bb27",
   "metadata": {},
   "source": [
    "# Assignment 8 Solutions"
   ]
  },
  {
   "cell_type": "markdown",
   "id": "823845d3",
   "metadata": {},
   "source": [
    "#### 1. Write a Python Program to Add two Matrices ?"
   ]
  },
  {
   "cell_type": "code",
   "execution_count": 2,
   "id": "6dd2fd5c",
   "metadata": {},
   "outputs": [
    {
     "name": "stdout",
     "output_type": "stream",
     "text": [
      "[[10, 10, 10], [10, 10, 10], [10, 10, 10]]\n"
     ]
    }
   ],
   "source": [
    "a=[[1, 2, 3], [4, 5, 6], [7, 8, 9]]\n",
    "b=[[9, 8, 7], [6, 5, 4], [3, 2, 1]]\n",
    "out=[[0]*len(a[0])]*len(a)\n",
    "for i in range(len(a)):\n",
    "    for j in range(len(a[i])):\n",
    "        out[i][j]=a[i][j]+b[i][j]\n",
    "print(out)\n",
    "\n"
   ]
  },
  {
   "cell_type": "markdown",
   "id": "9e6c1983",
   "metadata": {},
   "source": [
    "#### 2. Write a Python Program to Multiply two Matrices ?"
   ]
  },
  {
   "cell_type": "code",
   "execution_count": 12,
   "id": "e5c57cb3",
   "metadata": {},
   "outputs": [
    {
     "name": "stdout",
     "output_type": "stream",
     "text": [
      "[114, 160, 60, 27]\n",
      "[74, 97, 73, 14]\n",
      "[119, 157, 112, 23]\n"
     ]
    }
   ],
   "source": [
    "# Program to multiply two matrices using nested loops\n",
    "\n",
    "# 3x3 matrix\n",
    "X = [[12,7,3],\n",
    "    [4 ,5,6],\n",
    "    [7 ,8,9]]\n",
    "# 3x4 matrix\n",
    "Y = [[5,8,1,2],\n",
    "    [6,7,3,0],\n",
    "    [4,5,9,1]]\n",
    "# result is 3x4\n",
    "result = [[0,0,0,0],\n",
    "         [0,0,0,0],\n",
    "         [0,0,0,0]]\n",
    "\n",
    "# iterate through rows of X\n",
    "for i in range(len(X)):\n",
    "   # iterate through columns of Y\n",
    "   for j in range(len(Y[0])):\n",
    "       # iterate through rows of Y\n",
    "       for k in range(len(Y)):\n",
    "           result[i][j] += X[i][k] * Y[k][j]\n",
    "\n",
    "for r in result:\n",
    "   print(r)"
   ]
  },
  {
   "cell_type": "markdown",
   "id": "c2705b7d",
   "metadata": {},
   "source": [
    "#### 3. Write a Python Program to transpose a Matrix ?"
   ]
  },
  {
   "cell_type": "code",
   "execution_count": 11,
   "id": "22bedc7f",
   "metadata": {},
   "outputs": [
    {
     "name": "stdout",
     "output_type": "stream",
     "text": [
      "[12, 4, 3]\n",
      "[7, 5, 8]\n"
     ]
    }
   ],
   "source": [
    "\n",
    "X = [[12,7],\n",
    "    [4 ,5],\n",
    "    [3 ,8]]\n",
    "\n",
    "result = [[X[j][i] for j in range(len(X))] for i in range(len(X[0]))]\n",
    "\n",
    "for r in result:\n",
    "   print(r)"
   ]
  },
  {
   "cell_type": "code",
   "execution_count": 3,
   "id": "08afb7ff",
   "metadata": {},
   "outputs": [
    {
     "name": "stdout",
     "output_type": "stream",
     "text": [
      "[[1, 2, 3], [4, 5, 6], [7, 8, 9]] -> [[1, 4, 7], [2, 5, 8], [3, 6, 9]]\n",
      "[[1, 2], [4, 5], [7, 8]] -> [[1, 4, 7], [2, 5, 8]]\n",
      "[[1, 2, 3], [4, 5, 6]] -> [[1, 4], [2, 5], [3, 6]]\n"
     ]
    }
   ],
   "source": [
    "a = [[1,2,3],[4,5,6],[7,8,9]]\n",
    "b = [[1,2],[4,5],[7,8]]\n",
    "c = [[1,2,3],[4,5,6]]\n",
    "\n",
    "def generate_transpose(in_matrix):\n",
    "    out_matrix = []\n",
    "    for ele in range(len(in_matrix[0])):\n",
    "        out_matrix.append([0 for i in range(len(in_matrix))])\n",
    "    for i in range(len(in_matrix)):\n",
    "        for j in range(len(in_matrix[i])):\n",
    "            out_matrix[j][i] = in_matrix[i][j]\n",
    "    print(f'{in_matrix} -> {out_matrix}')\n",
    "        \n",
    "generate_transpose(a)\n",
    "generate_transpose(b)\n",
    "generate_transpose(c)"
   ]
  },
  {
   "cell_type": "markdown",
   "id": "5b6207c1",
   "metadata": {},
   "source": [
    "#### 4. Write a Python Program to sort Words in an Alphabatical Order ?"
   ]
  },
  {
   "cell_type": "code",
   "execution_count": 1,
   "id": "d6e5de3d",
   "metadata": {},
   "outputs": [
    {
     "name": "stdout",
     "output_type": "stream",
     "text": [
      "['Course', 'Data', 'Full', 'Ineuron', 'Science', 'Stack']\n"
     ]
    }
   ],
   "source": [
    "string=\"Ineuron Full Stack Data Science Course\"\n",
    "l=string.split(\" \")\n",
    "print(sorted(l))"
   ]
  },
  {
   "cell_type": "markdown",
   "id": "eb0e084d",
   "metadata": {},
   "source": [
    "#### 5. Write a Python Program to remove Punctuations From a String ?"
   ]
  },
  {
   "cell_type": "code",
   "execution_count": 9,
   "id": "bfb2161f",
   "metadata": {},
   "outputs": [
    {
     "name": "stdout",
     "output_type": "stream",
     "text": [
      "Full stacks ds  ineuron\n"
     ]
    }
   ],
   "source": [
    "s='\"Full Stacks DS\" @ Ineuron'\n",
    "s=s.lower()\n",
    "output=\"\"\n",
    "for i in s:\n",
    "    if (i>='a' and i<='z') or (i>='1' and i<='9') or (i==\" \"):\n",
    "       output=output+i\n",
    "print(output.capitalize())"
   ]
  }
 ],
 "metadata": {
  "kernelspec": {
   "display_name": "Python 3.7.9 64-bit",
   "language": "python",
   "name": "python3"
  },
  "language_info": {
   "codemirror_mode": {
    "name": "ipython",
    "version": 3
   },
   "file_extension": ".py",
   "mimetype": "text/x-python",
   "name": "python",
   "nbconvert_exporter": "python",
   "pygments_lexer": "ipython3",
   "version": "3.7.9"
  },
  "vscode": {
   "interpreter": {
    "hash": "5109d816b82be14675a6b11f8e0f0d2e80f029176ed3710d54e125caa8520dfd"
   }
  }
 },
 "nbformat": 4,
 "nbformat_minor": 5
}
